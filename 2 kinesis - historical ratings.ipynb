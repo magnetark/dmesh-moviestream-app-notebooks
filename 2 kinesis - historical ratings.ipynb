{
 "cells": [
  {
   "cell_type": "markdown",
   "id": "synthetic-complement",
   "metadata": {},
   "source": [
    "# 2. Loading Ratings to Kinesis Data Stream"
   ]
  },
  {
   "cell_type": "code",
   "execution_count": 6,
   "id": "exclusive-harvest",
   "metadata": {},
   "outputs": [],
   "source": [
    "import time\n",
    "import json\n",
    "import datetime\n",
    "import random\n",
    "import math\n",
    "import configparser\n",
    "\n",
    "import boto3\n",
    "import pandas as pd\n",
    "import numpy as np\n",
    "from tqdm import tqdm"
   ]
  },
  {
   "cell_type": "code",
   "execution_count": null,
   "id": "beneficial-eugene",
   "metadata": {
    "scrolled": true
   },
   "outputs": [],
   "source": [
    "config = configparser.ConfigParser()\n",
    "config.read(\"config.conf\")\n",
    "\n",
    "stream_name = config.get(\"kinesis\",\"stream_name\")\n",
    "data_folder = 'app-data'\n",
    "file = 'ratings.csv'"
   ]
  },
  {
   "cell_type": "code",
   "execution_count": 8,
   "id": "advance-myanmar",
   "metadata": {},
   "outputs": [],
   "source": [
    "class MovieLensKinesisLoader:\n",
    "    \n",
    "    def __init__(self, data_folder, file, stream_name, window=1, dtype={}, date_fields=[]):\n",
    "        \"\"\"\n",
    "        \n",
    "        \"\"\"\n",
    "        self.data_folder = data_folder\n",
    "        self.file = file\n",
    "        self.kinesis_client = boto3.client('kinesis')\n",
    "        self.stream_name = stream_name\n",
    "        self.window = window\n",
    "        self.current_window = -1\n",
    "        self.num_registers = 0\n",
    "        self.df = None\n",
    "        self.df = pd.read_csv(f\"{self.data_folder}/{self.file}\",dtype=dtype, parse_dates=date_fields)\n",
    "\n",
    "    \n",
    "    def load(self, max_iters=None, delay=0, restart=False):\n",
    "        \"\"\"\n",
    "        \n",
    "        \"\"\"\n",
    "        self.current_window = 0 if restart else self.current_window\n",
    "        num_iters = math.ceil(len(self.df)/self.window)\n",
    "        iters = 0\n",
    "        \n",
    "        # FIX - JUST PER REGISTER\n",
    "        for i in tqdm(range(num_iters)):\n",
    "            iters += 1\n",
    "            if i > self.current_window:\n",
    "                temp_df = self.df.iloc[i*self.window:(i+1)*self.window]\n",
    "                self.kinesis_client.put_record(\n",
    "                    StreamName=self.stream_name,\n",
    "                    Data=json.dumps(temp_df.to_dict(orient='records')),\n",
    "                    PartitionKey=\"partitionkey\"\n",
    "                )\n",
    "                self.num_registers += len(temp_df)\n",
    "                self.current_window = i\n",
    "                time.sleep(delay)\n",
    "            if max_iters != None and iters >= max_iters:\n",
    "                break\n",
    "    \n",
    "    def status(self):\n",
    "        return {\n",
    "            \"CurrentWindow\":self.current_window,\n",
    "            \"RegistersInSQL\":self.num_registers,\n",
    "            \"Window\":self.window\n",
    "        }"
   ]
  },
  {
   "cell_type": "markdown",
   "id": "occupied-citizenship",
   "metadata": {},
   "source": [
    "## 1. Read data from S3"
   ]
  },
  {
   "cell_type": "code",
   "execution_count": null,
   "id": "intermediate-buffer",
   "metadata": {
    "scrolled": true
   },
   "outputs": [],
   "source": [
    "mloader = MovieLensKinesisLoader(\n",
    "    data_folder,\n",
    "    file,\n",
    "    stream_name,\n",
    "    window = 1,\n",
    "    dtype = {\n",
    "        \"userId\":np.int64,\n",
    "        \"movieId\":np.int64,\n",
    "        \"rating\":np.str,\n",
    "    },\n",
    "    #date_fields = [\"timestamp\"] #type Timestamp is not JSON serializable\n",
    ")\n",
    "display(mloader.df.dtypes)\n",
    "mloader.df.head(3)"
   ]
  },
  {
   "cell_type": "markdown",
   "id": "german-basket",
   "metadata": {},
   "source": [
    "## 2. Send Data to the Data Setream"
   ]
  },
  {
   "cell_type": "code",
   "execution_count": null,
   "id": "south-growing",
   "metadata": {
    "scrolled": true
   },
   "outputs": [],
   "source": [
    "mloader.load(100)"
   ]
  },
  {
   "cell_type": "code",
   "execution_count": null,
   "id": "frozen-momentum",
   "metadata": {},
   "outputs": [],
   "source": [
    "mloader.status()"
   ]
  }
 ],
 "metadata": {
  "kernelspec": {
   "display_name": "Python 3",
   "language": "python",
   "name": "python3"
  },
  "language_info": {
   "codemirror_mode": {
    "name": "ipython",
    "version": 3
   },
   "file_extension": ".py",
   "mimetype": "text/x-python",
   "name": "python",
   "nbconvert_exporter": "python",
   "pygments_lexer": "ipython3",
   "version": "3.8.5"
  },
  "vscode": {
   "interpreter": {
    "hash": "925bb507c97935ef11b02d4f3314b202c7e2d9e75b29c9701bbf4804424dad2a"
   }
  }
 },
 "nbformat": 4,
 "nbformat_minor": 5
}
