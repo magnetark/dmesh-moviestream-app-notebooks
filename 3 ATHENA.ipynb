{
 "cells": [
  {
   "cell_type": "markdown",
   "id": "049ab334",
   "metadata": {},
   "source": [
    "# 3. Reading Data From Kinesis"
   ]
  },
  {
   "cell_type": "code",
   "execution_count": 13,
   "id": "fafc0da1",
   "metadata": {},
   "outputs": [],
   "source": [
    "import boto3\n",
    "import time\n",
    "import configparser\n",
    "import warnings\n",
    "warnings.filterwarnings(\"ignore\")"
   ]
  },
  {
   "cell_type": "code",
   "execution_count": 14,
   "id": "8a89275e",
   "metadata": {
    "scrolled": true
   },
   "outputs": [],
   "source": [
    "config = configparser.ConfigParser()\n",
    "config.read(\"config.conf\")\n",
    "\n",
    "glue_db = config.get(\"athena\",\"glue_db\")\n",
    "schema_name = config.get(\"athena\",\"schema_name\")\n",
    "stagin_dir = config.get(\"athena\",\"stagin_dir\")\n",
    "athena_client = boto3.client(\"athena\")"
   ]
  },
  {
   "cell_type": "code",
   "execution_count": null,
   "id": "7a14d449",
   "metadata": {},
   "outputs": [],
   "source": [
    "query_response = athena_client.start_query_execution(\n",
    "    QueryString=f'SELECT * FROM \"{glue_db}\".\"{schema_name}\" limit 10;',\n",
    "    QueryExecutionContext={\"Database\": schema_name},\n",
    "    ResultConfiguration={\n",
    "        \"OutputLocation\": stagin_dir,\n",
    "        \"EncryptionConfiguration\": {\"EncryptionOption\": \"SSE_S3\"},\n",
    "    },\n",
    ")"
   ]
  },
  {
   "cell_type": "code",
   "execution_count": null,
   "id": "73e33b75",
   "metadata": {},
   "outputs": [],
   "source": [
    "athena_client.get_query_execution(QueryExecutionId=query_response[\"QueryExecutionId\"])"
   ]
  },
  {
   "cell_type": "code",
   "execution_count": null,
   "id": "8b928b51",
   "metadata": {},
   "outputs": [],
   "source": [
    "athena_client.get_query_results(\n",
    "   QueryExecutionId=query_response[\"QueryExecutionId\"]\n",
    ")"
   ]
  },
  {
   "cell_type": "markdown",
   "id": "6a60e23b",
   "metadata": {},
   "source": [
    "```python\n",
    "while True:\n",
    "    try:\n",
    "        # This function only loads the first 1000 rows\n",
    "        athena_client.get_query_results(\n",
    "            QueryExecutionId=query_response[\"QueryExecutionId\"]\n",
    "        )\n",
    "        break\n",
    "    except Exception as err:\n",
    "        if \"not yet finished\" in str(err):\n",
    "            time.sleep(0.001)\n",
    "        else:\n",
    "            raise err\n",
    "```"
   ]
  }
 ],
 "metadata": {
  "kernelspec": {
   "display_name": "conda_python3",
   "language": "python",
   "name": "conda_python3"
  },
  "language_info": {
   "codemirror_mode": {
    "name": "ipython",
    "version": 3
   },
   "file_extension": ".py",
   "mimetype": "text/x-python",
   "name": "python",
   "nbconvert_exporter": "python",
   "pygments_lexer": "ipython3",
   "version": "3.6.13"
  },
  "vscode": {
   "interpreter": {
    "hash": "925bb507c97935ef11b02d4f3314b202c7e2d9e75b29c9701bbf4804424dad2a"
   }
  }
 },
 "nbformat": 4,
 "nbformat_minor": 5
}
