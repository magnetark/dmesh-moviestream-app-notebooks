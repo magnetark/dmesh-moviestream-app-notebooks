{
 "cells": [
  {
   "cell_type": "markdown",
   "id": "growing-generic",
   "metadata": {},
   "source": [
    "# 1. Loading Tags to RDS"
   ]
  },
  {
   "cell_type": "code",
   "execution_count": 1,
   "id": "swedish-soldier",
   "metadata": {},
   "outputs": [],
   "source": [
    "import time\n",
    "import json\n",
    "import datetime\n",
    "import random\n",
    "import math\n",
    "import configparser\n",
    "\n",
    "import boto3\n",
    "import pandas as pd\n",
    "import numpy as np\n",
    "from sqlalchemy import create_engine\n",
    "from tqdm import tqdm"
   ]
  },
  {
   "cell_type": "code",
   "execution_count": null,
   "id": "surgical-samoa",
   "metadata": {},
   "outputs": [],
   "source": [
    "config = configparser.ConfigParser()\n",
    "config.read(\"config.conf\")\n",
    "\n",
    "dbhost = config.get(\"rds\",\"dbhost\")\n",
    "dbuser = config.get(\"rds\",\"dbuser\")\n",
    "dbpass = config.get(\"rds\",\"dbpass\")\n",
    "dbname = config.get(\"rds\",\"dbname\")\n",
    "data_folder = 'app-data'\n",
    "file = 'tags.csv'"
   ]
  },
  {
   "cell_type": "code",
   "execution_count": 6,
   "id": "previous-montgomery",
   "metadata": {},
   "outputs": [],
   "source": [
    "class MovieLensSQLLoader:\n",
    "    \n",
    "    def __init__(self, data_folder, file, dbhost, dbuser, dbpass, dbname, dbtable, window=10, dtype={}, date_fields=[]):\n",
    "        \"\"\"\n",
    "        \n",
    "        \"\"\"\n",
    "        self.data_folder = data_folder\n",
    "        self.file = file\n",
    "        self.engine = create_engine(f'postgresql://{dbuser}:{dbpass}@{dbhost}:5432/{dbname}')\n",
    "        self.dbtable = dbtable\n",
    "        self.window = window\n",
    "        self.current_window = 0\n",
    "        self.num_registers = 0\n",
    "        self.df = pd.read_csv(f\"{self.data_folder}/{self.file}\",dtype=dtype, parse_dates=date_fields)\n",
    "    \n",
    "    def load(self, delay=0, if_exists='append', restart=False):\n",
    "        \"\"\"\n",
    "        \n",
    "        \"\"\"\n",
    "        self.current_window = 0 if restart else self.current_window\n",
    "        num_iters = math.ceil(len(self.df)/self.window)\n",
    "        for i in tqdm(range(num_iters)):\n",
    "            if i > self.current_window:\n",
    "                temp_df = self.df.iloc[i*self.window:(i+1)*self.window]\n",
    "                temp_df.to_sql(\n",
    "                    name=self.dbtable,\n",
    "                    con=self.engine,\n",
    "                    if_exists=if_exists\n",
    "                )\n",
    "                self.num_registers += len(temp_df)\n",
    "                self.current_window = i\n",
    "                time.sleep(delay)\n",
    "    \n",
    "    def status(self):\n",
    "        return {\n",
    "            \"CurrentWindow\":self.current_window,\n",
    "            \"RegistersInSQL\":self.num_registers,\n",
    "            \"Window\":self.window\n",
    "        }\n",
    "        \n",
    "    def drop_table(self):\n",
    "        \"\"\"\n",
    "        \n",
    "        \"\"\"\n",
    "        self.engine.execute(f'DROP TABLE {self.dbtable}')\n",
    "        # pd.DataFrame([]).to_sql(name=self.dbtable, con=self.engine, if_exists=\"replace\")"
   ]
  },
  {
   "cell_type": "markdown",
   "id": "occupied-citizenship",
   "metadata": {},
   "source": [
    "## 1. Read data from S3"
   ]
  },
  {
   "cell_type": "code",
   "execution_count": null,
   "id": "floppy-consistency",
   "metadata": {
    "scrolled": true
   },
   "outputs": [],
   "source": [
    "mloader = MovieLensSQLLoader(\n",
    "    data_folder,\n",
    "    file,\n",
    "    dbhost,\n",
    "    dbuser,\n",
    "    dbpass,\n",
    "    dbname,\n",
    "    window = 10,\n",
    "    dbtable='tags',\n",
    "    dtype = {\n",
    "        \"userId\":np.int64,\n",
    "        \"movieId\":np.int64,\n",
    "        \"tag\":np.str,\n",
    "    },\n",
    "    date_fields = [\"timestamp\"]\n",
    ")\n",
    "display(mloader.df.dtypes)\n",
    "mloader.df.head(3)"
   ]
  },
  {
   "cell_type": "markdown",
   "id": "wired-moscow",
   "metadata": {},
   "source": [
    "## 2. Loading data do RDS (Postgres)"
   ]
  },
  {
   "cell_type": "code",
   "execution_count": null,
   "id": "indirect-azerbaijan",
   "metadata": {},
   "outputs": [],
   "source": [
    "mloader.load()"
   ]
  },
  {
   "cell_type": "code",
   "execution_count": null,
   "id": "lucky-mills",
   "metadata": {},
   "outputs": [],
   "source": [
    "mloader.status()"
   ]
  },
  {
   "cell_type": "code",
   "execution_count": null,
   "id": "antique-clearance",
   "metadata": {},
   "outputs": [],
   "source": [
    "#mloader.drop_table()"
   ]
  },
  {
   "cell_type": "markdown",
   "id": "upper-score",
   "metadata": {},
   "source": [
    "-----"
   ]
  },
  {
   "cell_type": "markdown",
   "id": "monetary-norwegian",
   "metadata": {},
   "source": [
    "## Anexos"
   ]
  },
  {
   "cell_type": "markdown",
   "id": "lyric-roommate",
   "metadata": {},
   "source": [
    "Execute the following command if you need to install **pgdb(postgres)** in the notebook's environment\n",
    "```python \n",
    "! pip install pgdb\n",
    "```"
   ]
  },
  {
   "cell_type": "code",
   "execution_count": null,
   "id": "ef0892b3",
   "metadata": {},
   "outputs": [],
   "source": [
    "import pgdb"
   ]
  },
  {
   "cell_type": "code",
   "execution_count": null,
   "id": "regional-residence",
   "metadata": {},
   "outputs": [],
   "source": [
    "myConnection = pgdb.Connection( host=dbhost, user=dbuser, password=dbpass, database=dbname)\n",
    "def query( conn ) :\n",
    "    cur = conn.cursor()\n",
    "    cur.execute( \"SELECT * FROM tags LIMIT 3\" )\n",
    "    for a, b, *otros in cur.fetchall() :\n",
    "        print( a, b )\n",
    "query( myConnection )\n",
    "myConnection.close()"
   ]
  }
 ],
 "metadata": {
  "kernelspec": {
   "display_name": "Python 3",
   "language": "python",
   "name": "python3"
  },
  "language_info": {
   "codemirror_mode": {
    "name": "ipython",
    "version": 3
   },
   "file_extension": ".py",
   "mimetype": "text/x-python",
   "name": "python",
   "nbconvert_exporter": "python",
   "pygments_lexer": "ipython3",
   "version": "3.8.5"
  },
  "vscode": {
   "interpreter": {
    "hash": "925bb507c97935ef11b02d4f3314b202c7e2d9e75b29c9701bbf4804424dad2a"
   }
  }
 },
 "nbformat": 4,
 "nbformat_minor": 5
}
