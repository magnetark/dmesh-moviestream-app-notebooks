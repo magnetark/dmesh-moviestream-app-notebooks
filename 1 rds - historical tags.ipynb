{
 "cells": [
  {
   "cell_type": "markdown",
   "id": "91886317",
   "metadata": {},
   "source": [
    "# 1. Loading Tags to RDS"
   ]
  },
  {
   "cell_type": "code",
   "execution_count": null,
   "id": "363b7b0a",
   "metadata": {},
   "outputs": [],
   "source": [
    "import time\n",
    "import json\n",
    "import datetime\n",
    "import random\n",
    "import math\n",
    "import configparser\n",
    "\n",
    "import boto3\n",
    "import pandas as pd\n",
    "import numpy as np\n",
    "from sqlalchemy import create_engine\n",
    "from tqdm import tqdm\n",
    "\n",
    "from IPython.display import display, Markdown, clear_output\n",
    "import ipywidgets as widgets"
   ]
  },
  {
   "cell_type": "code",
   "execution_count": null,
   "id": "aa2da46b",
   "metadata": {},
   "outputs": [],
   "source": [
    "ssm = boto3.client('ssm')\n",
    "dbhost = ssm.get_parameter(Name='/moviestream/dbhost', WithDecryption=True)['Parameter']['Value']\n",
    "dbuser = ssm.get_parameter(Name='/moviestream/dbuser', WithDecryption=True)['Parameter']['Value']\n",
    "dbpass = ssm.get_parameter(Name='/moviestream/dbpass', WithDecryption=True)['Parameter']['Value']\n",
    "dbname = ssm.get_parameter(Name='/moviestream/dbname', WithDecryption=True)['Parameter']['Value']\n",
    "data_folder = 'app-data'\n",
    "file = 'tags.csv'"
   ]
  },
  {
   "cell_type": "code",
   "execution_count": null,
   "id": "df874800",
   "metadata": {},
   "outputs": [],
   "source": [
    "class MovieLensSQLLoader:\n",
    "    \n",
    "    def __init__(self, data_folder, file, dbhost, dbuser, dbpass, dbname, dbtable, window=10, dtype={}, date_fields=[]):\n",
    "        \"\"\"\n",
    "        \n",
    "        \"\"\"\n",
    "        self.data_folder = data_folder\n",
    "        self.file = file\n",
    "        self.engine = create_engine(f'postgresql://{dbuser}:{dbpass}@{dbhost}:5432/{dbname}')\n",
    "        self.dbtable = dbtable\n",
    "        self.window = window\n",
    "        self.current_window = 0\n",
    "        self.num_registers = 0\n",
    "        self.df = pd.read_csv(f\"{self.data_folder}/{self.file}\",dtype=dtype, parse_dates=date_fields)\n",
    "        try:\n",
    "            self.drop_table()\n",
    "        except:\n",
    "            pass\n",
    "    \n",
    "    def load(self, delay=0, registers=None, if_exists='append', restart=False):\n",
    "        \"\"\"\n",
    "        \n",
    "        \"\"\"\n",
    "        self.current_window = 0 if restart else self.current_window\n",
    "        num_iters = math.ceil(len(self.df)/self.window)\n",
    "        \n",
    "        max_iters = None if registers==None else math.ceil(registers/float(self.window))+1\n",
    "        load_iters = 0\n",
    "        iters = tqdm(range(num_iters))\n",
    "        for i in iters:\n",
    "            load_iters += 1\n",
    "            if i > self.current_window:\n",
    "                temp_df = self.df.iloc[i*self.window:(i+1)*self.window]\n",
    "                temp_df.to_sql(\n",
    "                    name=self.dbtable,\n",
    "                    con=self.engine,\n",
    "                    if_exists=if_exists\n",
    "                )\n",
    "                self.num_registers += len(temp_df)\n",
    "                self.current_window = i\n",
    "                iters.set_description(\"%s registers\" % self.num_registers)\n",
    "                time.sleep(delay)\n",
    "            if max_iters != None and load_iters >= max_iters:\n",
    "                break\n",
    "    \n",
    "    def status(self):\n",
    "        return {\n",
    "            \"CurrentWindow\":self.current_window,\n",
    "            \"RegistersInSQL\":self.num_registers,\n",
    "            \"Window\":self.window\n",
    "        }\n",
    "        \n",
    "    def drop_table(self):\n",
    "        \"\"\"\n",
    "        \n",
    "        \"\"\"\n",
    "        self.current_window = 0\n",
    "        self.num_registers = 0\n",
    "        self.engine.execute(f'DROP TABLE {self.dbtable}')\n",
    "        print(\"Table DROPPED\")\n",
    "        # pd.DataFrame([]).to_sql(name=self.dbtable, con=self.engine, if_exists=\"replace\")"
   ]
  },
  {
   "cell_type": "markdown",
   "id": "98fb35b4",
   "metadata": {},
   "source": [
    "## 0. Read data from S3"
   ]
  },
  {
   "cell_type": "code",
   "execution_count": null,
   "id": "a9edae36",
   "metadata": {},
   "outputs": [],
   "source": [
    "mloader = MovieLensSQLLoader(\n",
    "    data_folder,\n",
    "    file,\n",
    "    dbhost,\n",
    "    dbuser,\n",
    "    dbpass,\n",
    "    dbname,\n",
    "    window = 10,\n",
    "    dbtable='tags',\n",
    "    dtype = {\n",
    "        \"userId\":np.int64,\n",
    "        \"movieId\":np.int64,\n",
    "        \"tag\":np.str,\n",
    "        \"timestamp\":np.int64,\n",
    "    },\n",
    "    date_fields = []\n",
    ")\n",
    "display(mloader.df.dtypes)\n",
    "mloader.df.head(3)"
   ]
  },
  {
   "cell_type": "markdown",
   "id": "723607b0",
   "metadata": {},
   "source": [
    "-------"
   ]
  },
  {
   "cell_type": "markdown",
   "id": "237adc5f",
   "metadata": {},
   "source": [
    "## 1. Pre-Load"
   ]
  },
  {
   "cell_type": "code",
   "execution_count": null,
   "id": "932abf57",
   "metadata": {},
   "outputs": [],
   "source": [
    "mloader.load(registers=1999)"
   ]
  },
  {
   "cell_type": "markdown",
   "id": "aa0e43fa",
   "metadata": {},
   "source": [
    "## 2. CDC Inserting"
   ]
  },
  {
   "cell_type": "code",
   "execution_count": null,
   "id": "8f1d8ca8",
   "metadata": {},
   "outputs": [],
   "source": [
    "mloader.load()"
   ]
  },
  {
   "cell_type": "markdown",
   "id": "e64d4711",
   "metadata": {},
   "source": [
    "## 3. CDC Updating"
   ]
  },
  {
   "cell_type": "code",
   "execution_count": 1,
   "id": "28834555",
   "metadata": {},
   "outputs": [],
   "source": [
    "# TODO DataFrame replace entirely the table\n",
    "# mloader.load(if_exists=\"replace\",restart=True)"
   ]
  },
  {
   "cell_type": "markdown",
   "id": "f05f17e9",
   "metadata": {},
   "source": [
    "### Helpers"
   ]
  },
  {
   "cell_type": "raw",
   "id": "6b649b06",
   "metadata": {},
   "source": [
    "mloader.status()"
   ]
  },
  {
   "cell_type": "raw",
   "id": "b2f060d2",
   "metadata": {},
   "source": [
    "mloader.drop_table()"
   ]
  },
  {
   "cell_type": "markdown",
   "id": "724a5ed5",
   "metadata": {},
   "source": [
    "-----"
   ]
  },
  {
   "cell_type": "markdown",
   "id": "fca847a9",
   "metadata": {},
   "source": [
    "## Anexos"
   ]
  },
  {
   "cell_type": "markdown",
   "id": "7d707d58",
   "metadata": {},
   "source": [
    "Execute the following command if you need to install **pgdb(postgres)** in the notebook's environment\n",
    "```python \n",
    "! pip install pgdb\n",
    "```"
   ]
  },
  {
   "cell_type": "raw",
   "id": "f8eb997a",
   "metadata": {},
   "source": [
    "import pgdb\n",
    "myConnection = pgdb.Connection( host=dbhost, user=dbuser, password=dbpass, database=dbname)\n",
    "def query( conn ) :\n",
    "    cur = conn.cursor()\n",
    "    cur.execute( \"SELECT * FROM tags LIMIT 3\" )\n",
    "    for a, b, *otros in cur.fetchall() :\n",
    "        print( a, b )\n",
    "query( myConnection )\n",
    "myConnection.close()"
   ]
  }
 ],
 "metadata": {
  "kernelspec": {
   "display_name": "Python 3.8.5 ('pydev')",
   "language": "python",
   "name": "python3"
  },
  "language_info": {
   "codemirror_mode": {
    "name": "ipython",
    "version": 3
   },
   "file_extension": ".py",
   "mimetype": "text/x-python",
   "name": "python",
   "nbconvert_exporter": "python",
   "pygments_lexer": "ipython3",
   "version": "3.8.5"
  },
  "vscode": {
   "interpreter": {
    "hash": "925bb507c97935ef11b02d4f3314b202c7e2d9e75b29c9701bbf4804424dad2a"
   }
  }
 },
 "nbformat": 4,
 "nbformat_minor": 5
}
