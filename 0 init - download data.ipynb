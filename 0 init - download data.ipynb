{
 "cells": [
  {
   "cell_type": "markdown",
   "id": "spare-audit",
   "metadata": {},
   "source": [
    "# 0. Download Movie Lens data for 'Moviestream app'\n",
    "\n",
    "**¡DO NOT EDIT THIS CODE!**"
   ]
  },
  {
   "cell_type": "code",
   "execution_count": 1,
   "id": "anticipated-notice",
   "metadata": {
    "scrolled": false
   },
   "outputs": [
    {
     "name": "stdout",
     "output_type": "stream",
     "text": [
      "  % Total    % Received % Xferd  Average Speed   Time    Time     Time  Current\n",
      "                                 Dload  Upload   Total   Spent    Left  Speed\n",
      "100  249M  100  249M    0     0  6081k      0  0:00:42  0:00:42 --:--:-- 5887k0  6154k      0  0:00:41  0:00:33  0:00:08 6103k\n",
      "Archive:  ml-25m.zip\n",
      "   creating: ml-25m/\n",
      "  inflating: ml-25m/tags.csv         \n",
      "  inflating: ml-25m/links.csv        \n",
      "  inflating: ml-25m/README.txt       \n",
      "  inflating: ml-25m/ratings.csv      \n",
      "  inflating: ml-25m/genome-tags.csv  \n",
      "  inflating: ml-25m/genome-scores.csv  \n",
      "  inflating: ml-25m/movies.csv       \n"
     ]
    }
   ],
   "source": [
    "dataset = \"ml-25m.zip\"\n",
    "extracted_data = \"ml-25m\"\n",
    "data_dir = \"app-data\"\n",
    "!rm -rf data_dir\n",
    "!mkdir -p $data_dir\n",
    "!curl \"http://files.grouplens.org/datasets/movielens/\"$dataset > $dataset\n",
    "!unzip -o $dataset\n",
    "!rm $dataset\n",
    "!mv ./$extracted_data/* ./$data_dir/\n",
    "!rm -r ./$extracted_data"
   ]
  }
 ],
 "metadata": {
  "kernelspec": {
   "display_name": "Python 3.8.5 ('pydev')",
   "language": "python",
   "name": "python3"
  },
  "language_info": {
   "codemirror_mode": {
    "name": "ipython",
    "version": 3
   },
   "file_extension": ".py",
   "mimetype": "text/x-python",
   "name": "python",
   "nbconvert_exporter": "python",
   "pygments_lexer": "ipython3",
   "version": "3.8.5"
  },
  "vscode": {
   "interpreter": {
    "hash": "925bb507c97935ef11b02d4f3314b202c7e2d9e75b29c9701bbf4804424dad2a"
   }
  }
 },
 "nbformat": 4,
 "nbformat_minor": 5
}
