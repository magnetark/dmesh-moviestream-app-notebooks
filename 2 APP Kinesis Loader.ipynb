{
 "cells": [
  {
   "cell_type": "markdown",
   "id": "80fb7416",
   "metadata": {},
   "source": [
    "# Loading Ratings to Kinesis Data Stream"
   ]
  },
  {
   "cell_type": "code",
   "execution_count": 1,
   "id": "08833913",
   "metadata": {},
   "outputs": [],
   "source": [
    "import time\n",
    "import json\n",
    "import datetime\n",
    "import random\n",
    "import math\n",
    "import configparser\n",
    "\n",
    "import boto3\n",
    "import pandas as pd\n",
    "import numpy as np\n",
    "from tqdm import tqdm"
   ]
  },
  {
   "cell_type": "code",
   "execution_count": 2,
   "id": "86256319",
   "metadata": {
    "scrolled": true
   },
   "outputs": [],
   "source": [
    "config = configparser.ConfigParser()\n",
    "config.read(\"config.conf\")\n",
    "\n",
    "stream_name = config.get(\"kinesis\",\"stream_name\")\n",
    "file = 'app-data/ratings.csv'"
   ]
  },
  {
   "cell_type": "code",
   "execution_count": 3,
   "id": "1b6109a6",
   "metadata": {},
   "outputs": [],
   "source": [
    "class MovieLensKinesisLoader:\n",
    "    \n",
    "    AVAILABLE = \"AVAILABLE\"\n",
    "    STOPPED = \"STOPPED\"\n",
    "    RUNNING = \"RUNNING\"\n",
    "    DESTROYED = \"DESTOYED\"\n",
    "    \n",
    "    def __init__(self, file, stream_name, window=1, dtype={}, date_fields=[]):\n",
    "        \"\"\"\n",
    "        \n",
    "        \"\"\"\n",
    "        self.file = file\n",
    "        self.kinesis_client = boto3.client('kinesis')\n",
    "        self.stream_name = stream_name\n",
    "        self.window = window\n",
    "        self.current_window = -1\n",
    "        self.num_registers = 0\n",
    "        self.df = None\n",
    "        self.df = pd.read_csv(f\"{self.file}\",dtype=dtype, parse_dates=date_fields)\n",
    "        \n",
    "        # -----------\n",
    "        # UI ELEMENTS\n",
    "        # \n",
    "        self.out = widgets.Output()\n",
    "        start_button = widgets.Button(description='Start')\n",
    "        stop_button = widgets.Button(description='Stop')\n",
    "        destroy_button = widgets.Button(description='Destroy Process')\n",
    "        \n",
    "        def start_button_clicked(_):\n",
    "            self.__status[\"state\"] = self.RUNNING\n",
    "            \n",
    "        def stop_button_clicked(_):\n",
    "            self.__status[\"state\"] = self.STOPPED\n",
    "            \n",
    "        def destroy_button_clicked(_):\n",
    "            self.__status[\"state\"] = self.DESTROYED\n",
    "            \n",
    "        start_button.on_click(start_button_clicked)\n",
    "        stop_button.on_click(stop_button_clicked)\n",
    "        destroy_button.on_click(destroy_button_clicked)\n",
    "        \n",
    "        self.buttons = widgets.HBox([start_button, stop_button, destroy_button])    \n",
    "        self.box = widgets.VBox([self.buttons, self.out])\n",
    "\n",
    "    \n",
    "    def __load(self, max_iters=None, partition_ket, delay=0, restart=False):\n",
    "        \"\"\"\n",
    "        \n",
    "        \"\"\"\n",
    "        self.current_window = 0 if restart else self.current_window\n",
    "        num_iters = math.ceil(len(self.df)/self.window)\n",
    "        iters = 0\n",
    "        \n",
    "        for i in tqdm(range(num_iters)):\n",
    "            iters += 1\n",
    "            if i > self.current_window:\n",
    "                temp_df = self.df.iloc[i*self.window:(i+1)*self.window]\n",
    "                self.kinesis_client.put_record(\n",
    "                    StreamName=self.stream_name,\n",
    "                    Data=json.dumps(temp_df.to_dict(orient='records')),\n",
    "                    PartitionKey=partition_ket\n",
    "                )\n",
    "                self.num_registers += len(temp_df)\n",
    "                self.current_window = i\n",
    "                time.sleep(delay)\n",
    "            if max_iters != None and iters >= max_iters:\n",
    "                break\n",
    "    \n",
    "    def loadx(self, max_iters=None, partition_ket, delay=0, restart=False):\n",
    "        \"\"\"\n",
    "        \n",
    "        \"\"\"\n",
    "        if self.__status[\"state\"] == self.RUNNING or self.__status[\"state\"] == self.STOPPED:\n",
    "            print(\"There is already a 'loadx' load in progress\")\n",
    "        else:\n",
    "            _thread.start_new_thread(self.__load, (max_iters, partition_ket, delay, restart))\n",
    "        return self.box\n",
    "\n",
    "    \n",
    "    def status(self):\n",
    "        return {\n",
    "            \"CurrentWindow\":self.current_window,\n",
    "            \"RegistersSend\":self.num_registers,\n",
    "            \"Window\":self.window\n",
    "        }"
   ]
  },
  {
   "cell_type": "markdown",
   "id": "815f2d4b",
   "metadata": {},
   "source": [
    "## 1. Read data from S3"
   ]
  },
  {
   "cell_type": "code",
   "execution_count": null,
   "id": "303d8712",
   "metadata": {
    "scrolled": true
   },
   "outputs": [],
   "source": [
    "mloader = MovieLensKinesisLoader(\n",
    "    data_folder,\n",
    "    file,\n",
    "    stream_name,\n",
    "    window = 1,\n",
    "    dtype = {\n",
    "        \"userId\":np.int64,\n",
    "        \"movieId\":np.int64,\n",
    "        \"rating\":np.str,\n",
    "    },\n",
    "    #date_fields = [\"timestamp\"] #type Timestamp is not JSON serializable\n",
    ")\n",
    "display(mloader.df.dtypes)\n",
    "mloader.df.head(3)"
   ]
  },
  {
   "cell_type": "markdown",
   "id": "a7d320e2",
   "metadata": {},
   "source": [
    "## 2. Send Data to the Data Setream"
   ]
  },
  {
   "cell_type": "code",
   "execution_count": null,
   "id": "4257d102",
   "metadata": {
    "scrolled": true
   },
   "outputs": [],
   "source": [
    "mloader.load(100)"
   ]
  },
  {
   "cell_type": "code",
   "execution_count": null,
   "id": "dbb99713",
   "metadata": {},
   "outputs": [],
   "source": [
    "mloader.status()"
   ]
  }
 ],
 "metadata": {
  "kernelspec": {
   "display_name": "conda_python3",
   "language": "python",
   "name": "conda_python3"
  },
  "language_info": {
   "codemirror_mode": {
    "name": "ipython",
    "version": 3
   },
   "file_extension": ".py",
   "mimetype": "text/x-python",
   "name": "python",
   "nbconvert_exporter": "python",
   "pygments_lexer": "ipython3",
   "version": "3.6.13"
  },
  "vscode": {
   "interpreter": {
    "hash": "925bb507c97935ef11b02d4f3314b202c7e2d9e75b29c9701bbf4804424dad2a"
   }
  }
 },
 "nbformat": 4,
 "nbformat_minor": 5
}
