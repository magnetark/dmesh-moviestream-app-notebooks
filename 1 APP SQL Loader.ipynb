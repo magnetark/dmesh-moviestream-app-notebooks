{
 "cells": [
  {
   "cell_type": "markdown",
   "id": "6ce77e35",
   "metadata": {},
   "source": [
    "# 1. Loading Tags to RDS"
   ]
  },
  {
   "cell_type": "markdown",
   "id": "8d2c57ac",
   "metadata": {},
   "source": [
    "#### Uncomment the following cell to download the data"
   ]
  },
  {
   "cell_type": "raw",
   "id": "df097919",
   "metadata": {},
   "source": [
    "dataset = \"ml-25m.zip\"\n",
    "extracted_data = \"ml-25m\"\n",
    "data_dir = \"app-data\"\n",
    "!rm -rf data_dir\n",
    "!mkdir -p $data_dir\n",
    "!curl \"http://files.grouplens.org/datasets/movielens/\"$dataset > $dataset\n",
    "!unzip -o $dataset\n",
    "!rm $dataset\n",
    "!mv ./$extracted_data/* ./$data_dir/\n",
    "!rm -r ./$extracted_data\n",
    "! pip install psycopg2-binary"
   ]
  },
  {
   "cell_type": "code",
   "execution_count": 9,
   "id": "c1faa3f2",
   "metadata": {},
   "outputs": [],
   "source": [
    "import boto3\n",
    "import warnings\n",
    "import numpy as np\n",
    "from Loaders import SQLLoader, KinesisLoader\n",
    "warnings.filterwarnings(\"ignore\")"
   ]
  },
  {
   "cell_type": "code",
   "execution_count": 10,
   "id": "41898e00",
   "metadata": {},
   "outputs": [],
   "source": [
    "ssm = boto3.client('ssm')\n",
    "dbhost = ssm.get_parameter(Name='/moviestream/dbhost', WithDecryption=True)['Parameter']['Value']\n",
    "dbuser = ssm.get_parameter(Name='/moviestream/dbuser', WithDecryption=True)['Parameter']['Value']\n",
    "dbpass = ssm.get_parameter(Name='/moviestream/dbpass', WithDecryption=True)['Parameter']['Value']\n",
    "dbname = ssm.get_parameter(Name='/moviestream/dbname', WithDecryption=True)['Parameter']['Value']"
   ]
  },
  {
   "cell_type": "code",
   "execution_count": 11,
   "id": "cd294bd5",
   "metadata": {},
   "outputs": [],
   "source": [
    "import configparser\n",
    "config = configparser.ConfigParser()\n",
    "config.read(\"config.conf\")\n",
    "stream_name = config.get(\"kinesis\",\"stream_name\")"
   ]
  },
  {
   "cell_type": "markdown",
   "id": "da24a6b4",
   "metadata": {},
   "source": [
    "# A. Creating Loaders"
   ]
  },
  {
   "cell_type": "code",
   "execution_count": 12,
   "id": "787a04c3",
   "metadata": {
    "scrolled": true
   },
   "outputs": [
    {
     "data": {
      "text/html": [
       "<div>\n",
       "<style scoped>\n",
       "    .dataframe tbody tr th:only-of-type {\n",
       "        vertical-align: middle;\n",
       "    }\n",
       "\n",
       "    .dataframe tbody tr th {\n",
       "        vertical-align: top;\n",
       "    }\n",
       "\n",
       "    .dataframe thead th {\n",
       "        text-align: right;\n",
       "    }\n",
       "</style>\n",
       "<table border=\"1\" class=\"dataframe\">\n",
       "  <thead>\n",
       "    <tr style=\"text-align: right;\">\n",
       "      <th></th>\n",
       "      <th>userId</th>\n",
       "      <th>movieId</th>\n",
       "      <th>tag</th>\n",
       "      <th>timestamp</th>\n",
       "      <th>_insert</th>\n",
       "      <th>_insert_time</th>\n",
       "      <th>_update</th>\n",
       "      <th>_update_time</th>\n",
       "      <th>_delete</th>\n",
       "      <th>_delete_time</th>\n",
       "    </tr>\n",
       "  </thead>\n",
       "  <tbody>\n",
       "    <tr>\n",
       "      <th>0</th>\n",
       "      <td>3</td>\n",
       "      <td>260</td>\n",
       "      <td>classic</td>\n",
       "      <td>1439472355</td>\n",
       "      <td>0</td>\n",
       "      <td>0</td>\n",
       "      <td>0</td>\n",
       "      <td>0</td>\n",
       "      <td>0</td>\n",
       "      <td>0</td>\n",
       "    </tr>\n",
       "    <tr>\n",
       "      <th>1</th>\n",
       "      <td>3</td>\n",
       "      <td>260</td>\n",
       "      <td>sci-fi</td>\n",
       "      <td>1439472256</td>\n",
       "      <td>0</td>\n",
       "      <td>0</td>\n",
       "      <td>0</td>\n",
       "      <td>0</td>\n",
       "      <td>0</td>\n",
       "      <td>0</td>\n",
       "    </tr>\n",
       "    <tr>\n",
       "      <th>2</th>\n",
       "      <td>4</td>\n",
       "      <td>1732</td>\n",
       "      <td>dark comedy</td>\n",
       "      <td>1573943598</td>\n",
       "      <td>0</td>\n",
       "      <td>0</td>\n",
       "      <td>0</td>\n",
       "      <td>0</td>\n",
       "      <td>0</td>\n",
       "      <td>0</td>\n",
       "    </tr>\n",
       "  </tbody>\n",
       "</table>\n",
       "</div>"
      ],
      "text/plain": [
       "   userId  movieId          tag   timestamp  _insert  _insert_time  _update  \\\n",
       "0       3      260      classic  1439472355        0             0        0   \n",
       "1       3      260       sci-fi  1439472256        0             0        0   \n",
       "2       4     1732  dark comedy  1573943598        0             0        0   \n",
       "\n",
       "   _update_time  _delete  _delete_time  \n",
       "0             0        0             0  \n",
       "1             0        0             0  \n",
       "2             0        0             0  "
      ]
     },
     "metadata": {},
     "output_type": "display_data"
    },
    {
     "data": {
      "text/plain": [
       "{'state': 'AVAILABLE',\n",
       " 'iteration': 0,\n",
       " 'inserted': 0,\n",
       " 'updated': 0,\n",
       " 'deleted': 0,\n",
       " 'indb': None}"
      ]
     },
     "metadata": {},
     "output_type": "display_data"
    }
   ],
   "source": [
    "file_tags= 'app-data/tags.csv'\n",
    "dbengine = 'postgresql'\n",
    "dbtable  = 'tags'\n",
    "dtype    = {\"userId\":np.int64, \"movieId\":np.int64, \"tag\":np.str, \"timestamp\":np.int64}\n",
    "\n",
    "tloader = SQLLoader(file_tags, dbengine, dbhost, dbuser, dbpass, dbname, dbtable, drop=True, dtype=dtype)\n",
    "display(tloader.df.head(3), tloader.status())"
   ]
  },
  {
   "cell_type": "code",
   "execution_count": 14,
   "id": "7ef3c621",
   "metadata": {},
   "outputs": [
    {
     "data": {
      "text/html": [
       "<div>\n",
       "<style scoped>\n",
       "    .dataframe tbody tr th:only-of-type {\n",
       "        vertical-align: middle;\n",
       "    }\n",
       "\n",
       "    .dataframe tbody tr th {\n",
       "        vertical-align: top;\n",
       "    }\n",
       "\n",
       "    .dataframe thead th {\n",
       "        text-align: right;\n",
       "    }\n",
       "</style>\n",
       "<table border=\"1\" class=\"dataframe\">\n",
       "  <thead>\n",
       "    <tr style=\"text-align: right;\">\n",
       "      <th></th>\n",
       "      <th>userId</th>\n",
       "      <th>movieId</th>\n",
       "      <th>rating</th>\n",
       "      <th>timestamp</th>\n",
       "      <th>_sent</th>\n",
       "      <th>_sent_time</th>\n",
       "    </tr>\n",
       "  </thead>\n",
       "  <tbody>\n",
       "    <tr>\n",
       "      <th>0</th>\n",
       "      <td>1</td>\n",
       "      <td>296</td>\n",
       "      <td>5.0</td>\n",
       "      <td>1147880044</td>\n",
       "      <td>0</td>\n",
       "      <td>0</td>\n",
       "    </tr>\n",
       "    <tr>\n",
       "      <th>1</th>\n",
       "      <td>1</td>\n",
       "      <td>306</td>\n",
       "      <td>3.5</td>\n",
       "      <td>1147868817</td>\n",
       "      <td>0</td>\n",
       "      <td>0</td>\n",
       "    </tr>\n",
       "    <tr>\n",
       "      <th>2</th>\n",
       "      <td>1</td>\n",
       "      <td>307</td>\n",
       "      <td>5.0</td>\n",
       "      <td>1147868828</td>\n",
       "      <td>0</td>\n",
       "      <td>0</td>\n",
       "    </tr>\n",
       "  </tbody>\n",
       "</table>\n",
       "</div>"
      ],
      "text/plain": [
       "   userId  movieId rating   timestamp  _sent  _sent_time\n",
       "0       1      296    5.0  1147880044      0           0\n",
       "1       1      306    3.5  1147868817      0           0\n",
       "2       1      307    5.0  1147868828      0           0"
      ]
     },
     "metadata": {},
     "output_type": "display_data"
    }
   ],
   "source": [
    "file_ratings = 'app-data/ratings.csv'\n",
    "dtype = { \"userId\":np.int64, \"movieId\":np.int64, \"rating\":np.str } #date_fields = [\"timestamp\"]\n",
    "kloader = KinesisLoader(file_ratings, stream_name, dtype = dtype)\n",
    "display(kloader.df.head(3))"
   ]
  },
  {
   "cell_type": "markdown",
   "id": "3b656d21",
   "metadata": {},
   "source": [
    "--------"
   ]
  },
  {
   "cell_type": "markdown",
   "id": "e33ac068",
   "metadata": {},
   "source": [
    "# B. SQL Loading\n",
    "### B1. Full-Load"
   ]
  },
  {
   "cell_type": "code",
   "execution_count": null,
   "id": "8b3cc838",
   "metadata": {},
   "outputs": [],
   "source": [
    "# THE UID LOAD MUST CONTAIN ONLY INSERTS, THIS WAY THE TABLE CAN BE CREATED AND\n",
    "# THE ENGINE EXECUTE OF THE SECOND LINE CAN ALTER THE TABLE TO ALLOW DELETS REPLICATION\n",
    "tloader.iud(inserts=100, updates=0 , deletes=0, max_registers=2000)\n",
    "tloader.engine.execute(f\"ALTER TABLE {dbtable} REPLICA IDENTITY FULL\");"
   ]
  },
  {
   "cell_type": "markdown",
   "id": "66d05571",
   "metadata": {},
   "source": [
    "### B2. CDC (Inserts, Updates, Deletes)"
   ]
  },
  {
   "cell_type": "code",
   "execution_count": null,
   "id": "ebc20a1f",
   "metadata": {},
   "outputs": [],
   "source": [
    "tloader.iudx(inserts=100, updates=10, deletes=1)"
   ]
  },
  {
   "cell_type": "markdown",
   "id": "d81ad02a",
   "metadata": {},
   "source": [
    "# C. Kinesis Loading"
   ]
  },
  {
   "cell_type": "code",
   "execution_count": null,
   "id": "cd949a05",
   "metadata": {},
   "outputs": [],
   "source": [
    "kloader.loadx()"
   ]
  }
 ],
 "metadata": {
  "kernelspec": {
   "display_name": "Python 3.8.5 ('pydev')",
   "language": "python",
   "name": "python3"
  },
  "language_info": {
   "codemirror_mode": {
    "name": "ipython",
    "version": 3
   },
   "file_extension": ".py",
   "mimetype": "text/x-python",
   "name": "python",
   "nbconvert_exporter": "python",
   "pygments_lexer": "ipython3",
   "version": "3.8.5"
  },
  "vscode": {
   "interpreter": {
    "hash": "925bb507c97935ef11b02d4f3314b202c7e2d9e75b29c9701bbf4804424dad2a"
   }
  }
 },
 "nbformat": 4,
 "nbformat_minor": 5
}
